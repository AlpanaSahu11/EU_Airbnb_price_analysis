{
 "cells": [
  {
   "cell_type": "code",
   "execution_count": 1,
   "metadata": {},
   "outputs": [],
   "source": [
    "import pandas as pd\n",
    "import numpy as np\n",
    "from dotenv import load_dotenv\n",
    "import os\n",
    "import mysql.connector\n",
    "from sqlalchemy import create_engine\n",
    "from mysql.connector import Error\n",
    "from oauth2client.service_account import ServiceAccountCredentials\n",
    "from pydrive.auth import GoogleAuth\n",
    "from pydrive.drive import GoogleDrive\n",
    "from io import StringIO"
   ]
  },
  {
   "cell_type": "code",
   "execution_count": 2,
   "metadata": {},
   "outputs": [],
   "source": [
    "\n",
    "scope = [\"https://spreadsheets.google.com/feeds\",'https://www.googleapis.com/auth/drive']\n",
    "\n",
    "## Get environment variables\n",
    "cred_filename = os.getenv(\"CRED_FILENAME\")\n",
    "folder_id = os.getenv(\"FOLDER_ID\")  # Add the folder ID where the CSV files are stored\n",
    "# Connection parameters\n",
    "host = os.getenv(\"HOST\")  # Change if you're connecting remotely\n",
    "user = os.getenv(\"USER\")  # Your MySQL username\n",
    "password = os.getenv(\"PASSWORD\")  # Your MySQL password\n",
    "database = os.getenv(\"DATABASE\")  # The database name you want to create"
   ]
  },
  {
   "cell_type": "code",
   "execution_count": 3,
   "metadata": {},
   "outputs": [],
   "source": [
    "# Authenticate and create the PyDrive client\n",
    "def authenticate_gdrive(scope, cred_file):\n",
    "    cred = ServiceAccountCredentials.from_json_keyfile_name(cred_file, scope)\n",
    "    gauth = GoogleAuth()\n",
    "    gauth.credentials = cred\n",
    "    drive = GoogleDrive(gauth)\n",
    "    return drive\n",
    "\n",
    "# Function to read CSV file content from Google Drive into a Pandas DataFrame\n",
    "def read_csv_from_drive(folder_id, drive):\n",
    "    # List all files in the folder\n",
    "    file_list = drive.ListFile({'q': f\"'{folder_id}' in parents and trashed=false\"}).GetList()\n",
    "    # print(file_list)\n",
    "    \n",
    "    final_df = pd.DataFrame()\n",
    "    for file in file_list:\n",
    "        # Get the file's download URL\n",
    "        test_file = drive.CreateFile({'id': file['id']})\n",
    "        file_content = test_file.GetContentString()  # Get the file content as string, npt downloaded to local, rather stored as a local variable object\n",
    "        df = pd.read_csv(StringIO(file_content))  # Read the content into a Pandas DataFrame\n",
    "        df[\"City\"] = file[\"title\"].split(\"_\")[0]\n",
    "        df[\"day_flag\"] = file[\"title\"].split(\"_\")[1].split(\".\")[0]\n",
    "        \n",
    "        print(f\"Successfully read the file {file[\"title\"]}\")\n",
    "        \n",
    "        if final_df.empty:\n",
    "            final_df = df\n",
    "        else:\n",
    "            final_df = pd.concat([final_df, df])\n",
    "    \n",
    "    return final_df"
   ]
  },
  {
   "cell_type": "code",
   "execution_count": 7,
   "metadata": {},
   "outputs": [],
   "source": [
    "\n",
    "def create_connection(host_name, user_name, user_password):\n",
    "    \"\"\" Create a database connection to the MySQL server \"\"\"\n",
    "    connection = None\n",
    "    try:\n",
    "        connection = mysql.connector.connect(\n",
    "            host=host_name,\n",
    "            user=user_name,\n",
    "            password=user_password\n",
    "        )\n",
    "        print(\"Connection to MySQL DB successful\")\n",
    "    except Error as e:\n",
    "        print(f\"The error '{e}' occurred\")\n",
    "    return connection\n",
    "\n",
    "def create_database(connection, db_name):\n",
    "    \"\"\" Create a new database \"\"\"\n",
    "    cursor = connection.cursor()\n",
    "    try:\n",
    "        cursor.execute(f\"CREATE DATABASE IF NOT EXISTS {db_name}\")\n",
    "        print(f\"Database '{db_name}' created successfully\")\n",
    "    except Error as e:\n",
    "        print(f\"The error '{e}' occurred\")\n",
    "\n",
    "def create_table(connection, db_name):\n",
    "    \"\"\" Create a new table in the specified database \"\"\"\n",
    "    cursor = connection.cursor()\n",
    "    cursor.execute(f\"USE {db_name}\")  # Switch to the newly created database\n",
    "    create_table_query = \"\"\"\n",
    "    CREATE TABLE IF NOT EXISTS airbnb_eu (\n",
    "        id INT AUTO_INCREMENT PRIMARY KEY,\n",
    "        realsum DOUBLE,\n",
    "        room_type VARCHAR(20),\n",
    "        room_shared BOOLEAN,\n",
    "        room_private BOOLEAN,\n",
    "        person_capacity INTEGER,\n",
    "        host_is_superhost BOOLEAN,\n",
    "        multi BOOLEAN,\n",
    "        biz BOOLEAN,\n",
    "        cleanliness_rating NUMERIC,\n",
    "        guest_satisfaction_overall NUMERIC,\n",
    "        bedrooms NUMERIC,\n",
    "        dist NUMERIC,\n",
    "        metro_dist NUMERIC,\n",
    "        lng NUMERIC,\n",
    "        lat NUMERIC,\n",
    "        city VARCHAR(100) NOT NULL,\n",
    "        day_flag VARCHAR(100) NOT NULL\n",
    "    )\n",
    "    \"\"\"\n",
    "    try:\n",
    "        cursor.execute(create_table_query)\n",
    "        print(\"Table created successfully\")\n",
    "    except Error as e:\n",
    "        print(f\"The error '{e}' occurred\")"
   ]
  },
  {
   "cell_type": "code",
   "execution_count": 5,
   "metadata": {},
   "outputs": [
    {
     "name": "stdout",
     "output_type": "stream",
     "text": [
      "Successfully read the file budapest_weekdays.csv\n",
      "Successfully read the file barcelona_weekdays.csv\n",
      "Successfully read the file berlin_weekends.csv\n",
      "Successfully read the file berlin_weekdays.csv\n",
      "Successfully read the file lisbon_weekdays.csv\n",
      "Successfully read the file paris_weekdays.csv\n",
      "Successfully read the file rome_weekends.csv\n",
      "Successfully read the file vienna_weekends.csv\n",
      "Successfully read the file lisbon_weekends.csv\n",
      "Successfully read the file barcelona_weekends.csv\n",
      "Successfully read the file rome_weekdays.csv\n",
      "Successfully read the file london_weekdays.csv\n",
      "Successfully read the file vienna_weekdays.csv\n",
      "Successfully read the file london_weekends.csv\n",
      "Successfully read the file paris_weekends.csv\n",
      "Successfully read the file budapest_weekends.csv\n",
      "Successfully read the file athens_weekends.csv\n",
      "Successfully read the file amsterdam_weekends.csv\n",
      "Successfully read the file athens_weekdays.csv\n",
      "Successfully read the file amsterdam_weekdays.csv\n",
      "Final data: \n",
      "      realSum        room_type  room_shared  room_private  person_capacity  \\\n",
      "0  238.990459  Entire home/apt        False         False              6.0   \n",
      "1  300.794285  Entire home/apt        False         False              6.0   \n",
      "2  162.381915  Entire home/apt        False         False              4.0   \n",
      "3  118.437750  Entire home/apt        False         False              2.0   \n",
      "4  134.417446  Entire home/apt        False         False              4.0   \n",
      "\n",
      "   host_is_superhost  multi  biz  cleanliness_rating  \\\n",
      "0               True      0    1                10.0   \n",
      "1              False      0    1                 9.0   \n",
      "2               True      0    0                10.0   \n",
      "3              False      0    0                 9.0   \n",
      "4               True      1    0                10.0   \n",
      "\n",
      "   guest_satisfaction_overall  ...      dist  metro_dist   attr_index  \\\n",
      "0                        99.0  ...  0.359355    0.352643   404.404677   \n",
      "1                        98.0  ...  0.929427    0.200235  1676.876030   \n",
      "2                        98.0  ...  2.450840    0.279452   163.588493   \n",
      "3                        92.0  ...  1.559449    0.477971   191.719844   \n",
      "4                        99.0  ...  1.113803    0.270102   198.603460   \n",
      "\n",
      "   attr_index_norm  rest_index  rest_index_norm       lng       lat      City  \\\n",
      "0        24.116552  893.477343        67.656853  19.05074  47.50076  budapest   \n",
      "1       100.000000  452.539717        34.267700  19.04493  47.50405  budapest   \n",
      "2         9.755551  191.992270        14.538245  19.02170  47.49882  budapest   \n",
      "3        11.433155  326.215588        24.702048  19.06301  47.51126  budapest   \n",
      "4        11.843658  635.515884        48.123218  19.06900  47.49900  budapest   \n",
      "\n",
      "   day_flag  \n",
      "0  weekdays  \n",
      "1  weekdays  \n",
      "2  weekdays  \n",
      "3  weekdays  \n",
      "4  weekdays  \n",
      "\n",
      "[5 rows x 21 columns]\n"
     ]
    }
   ],
   "source": [
    "\n",
    "## Driver Codes    \n",
    "# Authenticate and get the Google Drive client\n",
    "drive = authenticate_gdrive(scope, cred_filename)\n",
    "\n",
    "output_df = read_csv_from_drive(folder_id, drive)\n",
    "\n",
    "output_df = output_df.drop(columns=[\"Unnamed: 0\"], axis=1)\n",
    "\n",
    "# Print the first few rows of the DataFrame\n",
    "print(f\"Final data: \\n{output_df.head()}\")"
   ]
  },
  {
   "cell_type": "code",
   "execution_count": 21,
   "metadata": {},
   "outputs": [
    {
     "name": "stdout",
     "output_type": "stream",
     "text": [
      "Connection to MySQL DB successful\n",
      "Database 'airbnb_masai' created successfully\n",
      "Table created successfully\n"
     ]
    }
   ],
   "source": [
    "\n",
    "# Create connection\n",
    "conn = create_connection(host, user, password)\n",
    "\n",
    "if conn:\n",
    "    # Create a new database\n",
    "    create_database(conn, database)\n",
    "\n",
    "    # Create a new table in the database\n",
    "    create_table(conn, database)\n",
    "    "
   ]
  },
  {
   "cell_type": "code",
   "execution_count": 9,
   "metadata": {},
   "outputs": [
    {
     "name": "stdout",
     "output_type": "stream",
     "text": [
      "Successfully wrote the data to SQL table\n"
     ]
    }
   ],
   "source": [
    "# Create the SQLAlchemy engine\n",
    "engine = create_engine(f\"mysql+pymysql://{user}:{password}@{host}/{database}\")\n",
    "\n",
    "# Insert DataFrame into MySQL table\n",
    "output_df.to_sql('airbnb_eu', con=engine, if_exists='replace', index=False)\n",
    "\n",
    "print(\"Successfully wrote the data to SQL table\")"
   ]
  },
  {
   "cell_type": "code",
   "execution_count": 16,
   "metadata": {},
   "outputs": [
    {
     "data": {
      "text/html": [
       "<div>\n",
       "<style scoped>\n",
       "    .dataframe tbody tr th:only-of-type {\n",
       "        vertical-align: middle;\n",
       "    }\n",
       "\n",
       "    .dataframe tbody tr th {\n",
       "        vertical-align: top;\n",
       "    }\n",
       "\n",
       "    .dataframe thead th {\n",
       "        text-align: right;\n",
       "    }\n",
       "</style>\n",
       "<table border=\"1\" class=\"dataframe\">\n",
       "  <thead>\n",
       "    <tr style=\"text-align: right;\">\n",
       "      <th></th>\n",
       "      <th>City</th>\n",
       "      <th>lng</th>\n",
       "      <th>lat</th>\n",
       "      <th>realSum</th>\n",
       "    </tr>\n",
       "  </thead>\n",
       "  <tbody>\n",
       "    <tr>\n",
       "      <th>0</th>\n",
       "      <td>amsterdam</td>\n",
       "      <td>4.890472</td>\n",
       "      <td>52.364637</td>\n",
       "      <td>1.192075e+06</td>\n",
       "    </tr>\n",
       "    <tr>\n",
       "      <th>1</th>\n",
       "      <td>athens</td>\n",
       "      <td>23.732031</td>\n",
       "      <td>37.980922</td>\n",
       "      <td>8.012090e+05</td>\n",
       "    </tr>\n",
       "    <tr>\n",
       "      <th>2</th>\n",
       "      <td>barcelona</td>\n",
       "      <td>2.169379</td>\n",
       "      <td>41.393495</td>\n",
       "      <td>8.322042e+05</td>\n",
       "    </tr>\n",
       "    <tr>\n",
       "      <th>3</th>\n",
       "      <td>berlin</td>\n",
       "      <td>13.399729</td>\n",
       "      <td>52.509110</td>\n",
       "      <td>6.075460e+05</td>\n",
       "    </tr>\n",
       "    <tr>\n",
       "      <th>4</th>\n",
       "      <td>budapest</td>\n",
       "      <td>19.061120</td>\n",
       "      <td>47.499287</td>\n",
       "      <td>7.099375e+05</td>\n",
       "    </tr>\n",
       "    <tr>\n",
       "      <th>5</th>\n",
       "      <td>lisbon</td>\n",
       "      <td>-9.143792</td>\n",
       "      <td>38.721298</td>\n",
       "      <td>1.372807e+06</td>\n",
       "    </tr>\n",
       "    <tr>\n",
       "      <th>6</th>\n",
       "      <td>london</td>\n",
       "      <td>-0.114830</td>\n",
       "      <td>51.503367</td>\n",
       "      <td>3.622155e+06</td>\n",
       "    </tr>\n",
       "    <tr>\n",
       "      <th>7</th>\n",
       "      <td>paris</td>\n",
       "      <td>2.343033</td>\n",
       "      <td>48.864343</td>\n",
       "      <td>2.625250e+06</td>\n",
       "    </tr>\n",
       "    <tr>\n",
       "      <th>8</th>\n",
       "      <td>rome</td>\n",
       "      <td>12.486139</td>\n",
       "      <td>41.895372</td>\n",
       "      <td>1.854073e+06</td>\n",
       "    </tr>\n",
       "    <tr>\n",
       "      <th>9</th>\n",
       "      <td>vienna</td>\n",
       "      <td>16.360856</td>\n",
       "      <td>48.204276</td>\n",
       "      <td>8.544772e+05</td>\n",
       "    </tr>\n",
       "  </tbody>\n",
       "</table>\n",
       "</div>"
      ],
      "text/plain": [
       "        City        lng        lat       realSum\n",
       "0  amsterdam   4.890472  52.364637  1.192075e+06\n",
       "1     athens  23.732031  37.980922  8.012090e+05\n",
       "2  barcelona   2.169379  41.393495  8.322042e+05\n",
       "3     berlin  13.399729  52.509110  6.075460e+05\n",
       "4   budapest  19.061120  47.499287  7.099375e+05\n",
       "5     lisbon  -9.143792  38.721298  1.372807e+06\n",
       "6     london  -0.114830  51.503367  3.622155e+06\n",
       "7      paris   2.343033  48.864343  2.625250e+06\n",
       "8       rome  12.486139  41.895372  1.854073e+06\n",
       "9     vienna  16.360856  48.204276  8.544772e+05"
      ]
     },
     "execution_count": 16,
     "metadata": {},
     "output_type": "execute_result"
    }
   ],
   "source": [
    "output_df2 = output_df.groupby(\"City\",as_index=False).agg({\"lng\": \"mean\",\"lat\": \"mean\",\"realSum\": \"sum\"})\n",
    "output_df2\n"
   ]
  },
  {
   "cell_type": "code",
   "execution_count": 17,
   "metadata": {},
   "outputs": [],
   "source": [
    "def create_table2(connection, db_name):\n",
    "    \"\"\" Create a new table in the specified database \"\"\"\n",
    "    cursor = connection.cursor()\n",
    "    cursor.execute(f\"USE {db_name}\")  # Switch to the newly created database\n",
    "    create_table_query = \"\"\"\n",
    "    CREATE TABLE IF NOT EXISTS airbnb_city (\n",
    "        id INT AUTO_INCREMENT PRIMARY KEY,\n",
    "        city VARCHAR(100) NOT NULL,\n",
    "        lng NUMERIC,\n",
    "        lat NUMERIC,\n",
    "        realsum DOUBLE   \n",
    "    )\n",
    "    \"\"\"\n",
    "    try:\n",
    "        cursor.execute(create_table_query)\n",
    "        print(\"Table created successfully\")\n",
    "    except Error as e:\n",
    "        print(f\"The error '{e}' occurred\")"
   ]
  },
  {
   "cell_type": "code",
   "execution_count": 18,
   "metadata": {},
   "outputs": [
    {
     "data": {
      "text/plain": [
       "<mysql.connector.connection_cext.CMySQLConnection at 0x175c18b24b0>"
      ]
     },
     "execution_count": 18,
     "metadata": {},
     "output_type": "execute_result"
    }
   ],
   "source": [
    "conn"
   ]
  },
  {
   "cell_type": "code",
   "execution_count": 19,
   "metadata": {},
   "outputs": [
    {
     "data": {
      "text/plain": [
       "'airbnb_masai'"
      ]
     },
     "execution_count": 19,
     "metadata": {},
     "output_type": "execute_result"
    }
   ],
   "source": [
    "database"
   ]
  },
  {
   "cell_type": "code",
   "execution_count": 22,
   "metadata": {},
   "outputs": [
    {
     "name": "stdout",
     "output_type": "stream",
     "text": [
      "Table created successfully\n"
     ]
    }
   ],
   "source": [
    "create_table2(conn, database)"
   ]
  },
  {
   "cell_type": "code",
   "execution_count": 23,
   "metadata": {},
   "outputs": [],
   "source": [
    " # Close the connection\n",
    "conn.close()"
   ]
  },
  {
   "cell_type": "code",
   "execution_count": null,
   "metadata": {},
   "outputs": [],
   "source": [
    "output_df2.to_sql('airbnb_city', con=engine, if_exists='replace', index=False)"
   ]
  }
 ],
 "metadata": {
  "kernelspec": {
   "display_name": "masai",
   "language": "python",
   "name": "python3"
  },
  "language_info": {
   "codemirror_mode": {
    "name": "ipython",
    "version": 3
   },
   "file_extension": ".py",
   "mimetype": "text/x-python",
   "name": "python",
   "nbconvert_exporter": "python",
   "pygments_lexer": "ipython3",
   "version": "3.12.4"
  }
 },
 "nbformat": 4,
 "nbformat_minor": 2
}
